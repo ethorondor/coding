{
 "cells": [
  {
   "cell_type": "markdown",
   "metadata": {
    "isInteractiveWindowMessageCell": true
   },
   "source": [
    "Connected to ds (Python 3.11.8)"
   ]
  },
  {
   "cell_type": "code",
   "execution_count": 1,
   "metadata": {},
   "outputs": [
    {
     "ename": "AttributeError",
     "evalue": "'NoneType' object has no attribute 'next'",
     "output_type": "error",
     "traceback": [
      "\u001b[0;31m---------------------------------------------------------------------------\u001b[0m",
      "\u001b[0;31mAttributeError\u001b[0m                            Traceback (most recent call last)",
      "File \u001b[1;32m/file/leetcode/linked_list/reorder_list.py:47\u001b[0m\n\u001b[1;32m     44\u001b[0m         \u001b[39mreturn\u001b[39;00m dummy\u001b[39m.\u001b[39mnext\n\u001b[1;32m     46\u001b[0m sln \u001b[39m=\u001b[39m Solutions()\n\u001b[0;32m---> 47\u001b[0m sln\u001b[39m.\u001b[39mreorder_list(head)\n",
      "File \u001b[1;32m/file/leetcode/linked_list/reorder_list.py:34\u001b[0m\n\u001b[1;32m     32\u001b[0m curr \u001b[39m=\u001b[39m dummy\n\u001b[1;32m     33\u001b[0m \u001b[39mwhile\u001b[39;00m prev \u001b[39mand\u001b[39;00m head:\n\u001b[0;32m---> 34\u001b[0m     curr\u001b[39m.\u001b[39mnext \u001b[39m=\u001b[39m ListNode(head\u001b[39m.\u001b[39mval)\n\u001b[1;32m     35\u001b[0m     curr\u001b[39m.\u001b[39mnext\u001b[39m.\u001b[39mnext \u001b[39m=\u001b[39m ListNode(prev\u001b[39m.\u001b[39mval)\n\u001b[1;32m     36\u001b[0m     head \u001b[39m=\u001b[39m head\u001b[39m.\u001b[39mnext\n",
      "\u001b[0;31mAttributeError\u001b[0m: 'NoneType' object has no attribute 'next'"
     ]
    }
   ],
   "source": [
    "class ListNode:\n",
    "    def __init__(self, val=0, next=None) -> None:\n",
    "        self.val = val\n",
    "        self.next = next\n",
    "\n",
    "head = ListNode(1)\n",
    "head.next = ListNode(2)\n",
    "head.next.next = ListNode(3)\n",
    "head.next.next.next = ListNode(4)\n",
    "class Solutions:\n",
    "    def reorder_list(self, head):\n",
    "        # find the middle of the linked list\n",
    "        if not head or not head.next or not head.next.next:\n",
    "            return head\n",
    "        fast = head.next.next\n",
    "        slow = head\n",
    "        while fast and fast.next:\n",
    "            fast = fast.next.next\n",
    "            slow = slow.next\n",
    "        tail = slow.next\n",
    "        slow.next = None\n",
    "        # now reverse tail\n",
    "        prev = None\n",
    "        curr = tail\n",
    "        while curr:\n",
    "            _tmp = curr.next\n",
    "            curr.next = prev\n",
    "            prev = curr\n",
    "            curr = _tmp\n",
    "        dummy = ListNode()\n",
    "        curr = dummy\n",
    "        while prev and head:\n",
    "            curr.next = ListNode(head.val)\n",
    "            curr.next.next = ListNode(prev.val)\n",
    "            head = head.next\n",
    "            prev = prev.next\n",
    "            curr = curr.next.next.next\n",
    "        if prev:\n",
    "            curr.next = prev.next\n",
    "        if head:\n",
    "            curr.next = head.next\n",
    "            \n",
    "        return dummy.next\n",
    "            \n",
    "sln = Solutions()\n",
    "sln.reorder_list(head)"
   ]
  },
  {
   "cell_type": "code",
   "execution_count": 2,
   "metadata": {},
   "outputs": [
    {
     "ename": "AttributeError",
     "evalue": "'NoneType' object has no attribute 'next'",
     "output_type": "error",
     "traceback": [
      "\u001b[0;31m---------------------------------------------------------------------------\u001b[0m",
      "\u001b[0;31mAttributeError\u001b[0m                            Traceback (most recent call last)",
      "File \u001b[1;32m/file/leetcode/linked_list/reorder_list.py:47\u001b[0m\n\u001b[1;32m     44\u001b[0m         \u001b[39mreturn\u001b[39;00m dummy\u001b[39m.\u001b[39mnext\n\u001b[1;32m     46\u001b[0m sln \u001b[39m=\u001b[39m Solutions()\n\u001b[0;32m---> 47\u001b[0m sln\u001b[39m.\u001b[39mreorder_list(head)\n",
      "File \u001b[1;32m/file/leetcode/linked_list/reorder_list.py:38\u001b[0m\n\u001b[1;32m     36\u001b[0m     head \u001b[39m=\u001b[39m head\u001b[39m.\u001b[39mnext\n\u001b[1;32m     37\u001b[0m     prev \u001b[39m=\u001b[39m prev\u001b[39m.\u001b[39mnext\n\u001b[0;32m---> 38\u001b[0m     curr \u001b[39m=\u001b[39m curr\u001b[39m.\u001b[39mnext\u001b[39m.\u001b[39mnext\u001b[39m.\u001b[39mnext\n\u001b[1;32m     39\u001b[0m \u001b[39mif\u001b[39;00m prev:\n\u001b[1;32m     40\u001b[0m     curr\u001b[39m.\u001b[39mnext \u001b[39m=\u001b[39m prev\u001b[39m.\u001b[39mnext\n",
      "\u001b[0;31mAttributeError\u001b[0m: 'NoneType' object has no attribute 'next'"
     ]
    }
   ],
   "source": [
    "class ListNode:\n",
    "    def __init__(self, val=0, next=None) -> None:\n",
    "        self.val = val\n",
    "        self.next = next\n",
    "\n",
    "head = ListNode(1)\n",
    "head.next = ListNode(2)\n",
    "head.next.next = ListNode(3)\n",
    "head.next.next.next = ListNode(4)\n",
    "class Solutions:\n",
    "    def reorder_list(self, head):\n",
    "        # find the middle of the linked list\n",
    "        if not head or not head.next or not head.next.next:\n",
    "            return head\n",
    "        fast = head.next.next\n",
    "        slow = head\n",
    "        while fast and fast.next:\n",
    "            fast = fast.next.next\n",
    "            slow = slow.next\n",
    "        tail = slow.next\n",
    "        slow.next = None\n",
    "        # now reverse tail\n",
    "        prev = None\n",
    "        curr = tail\n",
    "        while curr:\n",
    "            _tmp = curr.next\n",
    "            curr.next = prev\n",
    "            prev = curr\n",
    "            curr = _tmp\n",
    "        dummy = ListNode()\n",
    "        curr = dummy\n",
    "        while prev and head:\n",
    "            curr = ListNode(head.val)\n",
    "            curr.next = ListNode(prev.val)\n",
    "            head = head.next\n",
    "            prev = prev.next\n",
    "            curr = curr.next.next.next\n",
    "        if prev:\n",
    "            curr.next = prev.next\n",
    "        if head:\n",
    "            curr.next = head.next\n",
    "            \n",
    "        return dummy.next\n",
    "            \n",
    "sln = Solutions()\n",
    "sln.reorder_list(head)"
   ]
  },
  {
   "cell_type": "code",
   "execution_count": 3,
   "metadata": {},
   "outputs": [],
   "source": [
    "class ListNode:\n",
    "    def __init__(self, val=0, next=None) -> None:\n",
    "        self.val = val\n",
    "        self.next = next\n",
    "\n",
    "head = ListNode(1)\n",
    "head.next = ListNode(2)\n",
    "head.next.next = ListNode(3)\n",
    "head.next.next.next = ListNode(4)\n",
    "class Solutions:\n",
    "    def reorder_list(self, head):\n",
    "        # find the middle of the linked list\n",
    "        if not head or not head.next or not head.next.next:\n",
    "            return head\n",
    "        fast = head.next.next\n",
    "        slow = head\n",
    "        while fast and fast.next:\n",
    "            fast = fast.next.next\n",
    "            slow = slow.next\n",
    "        tail = slow.next\n",
    "        slow.next = None\n",
    "        # now reverse tail\n",
    "        prev = None\n",
    "        curr = tail\n",
    "        while curr:\n",
    "            _tmp = curr.next\n",
    "            curr.next = prev\n",
    "            prev = curr\n",
    "            curr = _tmp\n",
    "        dummy = ListNode()\n",
    "        curr = dummy\n",
    "        while prev and head:\n",
    "            curr = ListNode(head.val)\n",
    "            curr.next = ListNode(prev.val)\n",
    "            head = head.next\n",
    "            prev = prev.next\n",
    "            curr = curr.next.next\n",
    "        if prev:\n",
    "            curr.next = prev.next\n",
    "        if head:\n",
    "            curr.next = head.next\n",
    "            \n",
    "        return dummy.next\n",
    "            \n",
    "sln = Solutions()\n",
    "sln.reorder_list(head)"
   ]
  },
  {
   "cell_type": "code",
   "execution_count": 4,
   "metadata": {},
   "outputs": [],
   "source": [
    "class ListNode:\n",
    "    def __init__(self, val=0, next=None) -> None:\n",
    "        self.val = val\n",
    "        self.next = next\n",
    "\n",
    "head = ListNode(1)\n",
    "head.next = ListNode(2)\n",
    "head.next.next = ListNode(3)\n",
    "head.next.next.next = ListNode(4)\n",
    "class Solutions:\n",
    "    def reorder_list(self, head):\n",
    "        # find the middle of the linked list\n",
    "        if not head or not head.next or not head.next.next:\n",
    "            return head\n",
    "        fast = head.next.next\n",
    "        slow = head\n",
    "        while fast and fast.next:\n",
    "            fast = fast.next.next\n",
    "            slow = slow.next\n",
    "        tail = slow.next\n",
    "        slow.next = None\n",
    "        # now reverse tail\n",
    "        prev = None\n",
    "        curr = tail\n",
    "        while curr:\n",
    "            _tmp = curr.next\n",
    "            curr.next = prev\n",
    "            prev = curr\n",
    "            curr = _tmp\n",
    "        dummy = ListNode()\n",
    "        curr = dummy\n",
    "        while prev and head:\n",
    "            curr = ListNode(head.val)\n",
    "            curr.next = ListNode(prev.val)\n",
    "            head = head.next\n",
    "            prev = prev.next\n",
    "            curr = curr.next.next\n",
    "        if prev:\n",
    "            curr.next = prev.next\n",
    "        if head:\n",
    "            curr.next = head.next\n",
    "            \n",
    "        return dummy.next\n",
    "            \n",
    "sln = Solutions()\n",
    "h = sln.reorder_list(head)"
   ]
  },
  {
   "cell_type": "code",
   "execution_count": 5,
   "metadata": {},
   "outputs": [
    {
     "ename": "AttributeError",
     "evalue": "'NoneType' object has no attribute 'val'",
     "output_type": "error",
     "traceback": [
      "\u001b[0;31m---------------------------------------------------------------------------\u001b[0m",
      "\u001b[0;31mAttributeError\u001b[0m                            Traceback (most recent call last)",
      "Cell \u001b[0;32mIn[5], line 1\u001b[0m\n\u001b[0;32m----> 1\u001b[0m h\u001b[39m.\u001b[39mval\n",
      "\u001b[0;31mAttributeError\u001b[0m: 'NoneType' object has no attribute 'val'"
     ]
    }
   ],
   "source": [
    "h.val "
   ]
  },
  {
   "cell_type": "code",
   "execution_count": 6,
   "metadata": {},
   "outputs": [],
   "source": [
    "h "
   ]
  },
  {
   "cell_type": "code",
   "execution_count": 7,
   "metadata": {},
   "outputs": [
    {
     "ename": "AttributeError",
     "evalue": "'NoneType' object has no attribute 'next'",
     "output_type": "error",
     "traceback": [
      "\u001b[0;31m---------------------------------------------------------------------------\u001b[0m",
      "\u001b[0;31mAttributeError\u001b[0m                            Traceback (most recent call last)",
      "Cell \u001b[0;32mIn[7], line 1\u001b[0m\n\u001b[0;32m----> 1\u001b[0m h\u001b[39m.\u001b[39mnext\n",
      "\u001b[0;31mAttributeError\u001b[0m: 'NoneType' object has no attribute 'next'"
     ]
    }
   ],
   "source": [
    "h.next\n"
   ]
  },
  {
   "cell_type": "code",
   "execution_count": 8,
   "metadata": {},
   "outputs": [
    {
     "ename": "AttributeError",
     "evalue": "'NoneType' object has no attribute 'next'",
     "output_type": "error",
     "traceback": [
      "\u001b[0;31m---------------------------------------------------------------------------\u001b[0m",
      "\u001b[0;31mAttributeError\u001b[0m                            Traceback (most recent call last)",
      "File \u001b[1;32m/file/leetcode/linked_list/reorder_list.py:47\u001b[0m\n\u001b[1;32m     44\u001b[0m         \u001b[39mreturn\u001b[39;00m dummy\u001b[39m.\u001b[39mnext\n\u001b[1;32m     46\u001b[0m sln \u001b[39m=\u001b[39m Solutions()\n\u001b[0;32m---> 47\u001b[0m h \u001b[39m=\u001b[39m sln\u001b[39m.\u001b[39mreorder_list(head)\n",
      "File \u001b[1;32m/file/leetcode/linked_list/reorder_list.py:42\u001b[0m\n\u001b[1;32m     40\u001b[0m     curr\u001b[39m.\u001b[39mnext \u001b[39m=\u001b[39m prev\u001b[39m.\u001b[39mnext\n\u001b[1;32m     41\u001b[0m \u001b[39mif\u001b[39;00m head:\n\u001b[0;32m---> 42\u001b[0m     curr\u001b[39m.\u001b[39mnext \u001b[39m=\u001b[39m head\u001b[39m.\u001b[39mnext\n\u001b[1;32m     44\u001b[0m \u001b[39mreturn\u001b[39;00m dummy\u001b[39m.\u001b[39mnext\n",
      "\u001b[0;31mAttributeError\u001b[0m: 'NoneType' object has no attribute 'next'"
     ]
    }
   ],
   "source": [
    "class ListNode:\n",
    "    def __init__(self, val=0, next=None) -> None:\n",
    "        self.val = val\n",
    "        self.next = next\n",
    "\n",
    "head = ListNode(1)\n",
    "head.next = ListNode(2)\n",
    "head.next.next = ListNode(3)\n",
    "head.next.next.next = ListNode(4)\n",
    "class Solutions:\n",
    "    def reorder_list(self, head):\n",
    "        # find the middle of the linked list\n",
    "        if not head or not head.next or not head.next.next:\n",
    "            return head\n",
    "        fast = head.next.next\n",
    "        slow = head\n",
    "        while fast and fast.next:\n",
    "            fast = fast.next.next\n",
    "            slow = slow.next\n",
    "        tail = slow.next\n",
    "        slow.next = None\n",
    "        # now reverse tail\n",
    "        prev = None\n",
    "        curr = tail\n",
    "        while curr:\n",
    "            _tmp = curr.next\n",
    "            curr.next = prev\n",
    "            prev = curr\n",
    "            curr = _tmp\n",
    "        dummy = ListNode()\n",
    "        curr = dummy\n",
    "        while prev and head:\n",
    "            curr = head\n",
    "            curr.next = prev\n",
    "            head = head.next\n",
    "            prev = prev.next\n",
    "            curr = curr.next.next\n",
    "        if prev:\n",
    "            curr.next = prev.next\n",
    "        if head:\n",
    "            curr.next = head.next\n",
    "            \n",
    "        return dummy.next\n",
    "            \n",
    "sln = Solutions()\n",
    "h = sln.reorder_list(head)"
   ]
  },
  {
   "cell_type": "code",
   "execution_count": 9,
   "metadata": {},
   "outputs": [],
   "source": [
    "class ListNode:\n",
    "    def __init__(self, val=0, next=None) -> None:\n",
    "        self.val = val\n",
    "        self.next = next\n",
    "\n",
    "head = ListNode(1)\n",
    "head.next = ListNode(2)\n",
    "head.next.next = ListNode(3)\n",
    "head.next.next.next = ListNode(4)\n",
    "class Solutions:\n",
    "    def reorder_list(self, head):\n",
    "        # find the middle of the linked list\n",
    "        if not head or not head.next or not head.next.next:\n",
    "            return head\n",
    "        fast = head.next.next\n",
    "        slow = head\n",
    "        while fast and fast.next:\n",
    "            fast = fast.next.next\n",
    "            slow = slow.next\n",
    "        tail = slow.next\n",
    "        slow.next = None\n",
    "        # now reverse tail\n",
    "        prev = None\n",
    "        curr = tail\n",
    "        while curr:\n",
    "            _tmp = curr.next\n",
    "            curr.next = prev\n",
    "            prev = curr\n",
    "            curr = _tmp\n",
    "        dummy = ListNode()\n",
    "        curr = dummy\n",
    "        while prev and head:\n",
    "            curr.next = head\n",
    "            curr = curr.next\n",
    "            curr.next = prev\n",
    "            curr = curr.next\n",
    "            head = head.next\n",
    "            prev = prev.next\n",
    "        if prev:\n",
    "            curr.next = prev.next\n",
    "        if head:\n",
    "            curr.next = head.next\n",
    "            \n",
    "        return dummy.next\n",
    "            \n",
    "sln = Solutions()\n",
    "h = sln.reorder_list(head)"
   ]
  },
  {
   "cell_type": "code",
   "execution_count": 10,
   "metadata": {},
   "outputs": [
    {
     "ename": "AttributeError",
     "evalue": "'ListNode' object has no attribute 'vla'",
     "output_type": "error",
     "traceback": [
      "\u001b[0;31m---------------------------------------------------------------------------\u001b[0m",
      "\u001b[0;31mAttributeError\u001b[0m                            Traceback (most recent call last)",
      "Cell \u001b[0;32mIn[10], line 1\u001b[0m\n\u001b[0;32m----> 1\u001b[0m h\u001b[39m.\u001b[39mvla\n",
      "\u001b[0;31mAttributeError\u001b[0m: 'ListNode' object has no attribute 'vla'"
     ]
    }
   ],
   "source": [
    "h.vla "
   ]
  },
  {
   "cell_type": "code",
   "execution_count": 11,
   "metadata": {},
   "outputs": [
    {
     "data": {
      "text/plain": [
       "1"
      ]
     },
     "execution_count": 11,
     "metadata": {},
     "output_type": "execute_result"
    }
   ],
   "source": [
    "h.val "
   ]
  },
  {
   "cell_type": "code",
   "execution_count": 12,
   "metadata": {},
   "outputs": [
    {
     "data": {
      "text/plain": [
       "4"
      ]
     },
     "execution_count": 12,
     "metadata": {},
     "output_type": "execute_result"
    }
   ],
   "source": [
    "h.next.val "
   ]
  },
  {
   "cell_type": "code",
   "execution_count": 13,
   "metadata": {},
   "outputs": [
    {
     "data": {
      "text/plain": [
       "3"
      ]
     },
     "execution_count": 13,
     "metadata": {},
     "output_type": "execute_result"
    }
   ],
   "source": [
    "h.next.next.val "
   ]
  },
  {
   "cell_type": "code",
   "execution_count": 14,
   "metadata": {},
   "outputs": [
    {
     "ename": "AttributeError",
     "evalue": "'NoneType' object has no attribute 'val'",
     "output_type": "error",
     "traceback": [
      "\u001b[0;31m---------------------------------------------------------------------------\u001b[0m",
      "\u001b[0;31mAttributeError\u001b[0m                            Traceback (most recent call last)",
      "Cell \u001b[0;32mIn[14], line 1\u001b[0m\n\u001b[0;32m----> 1\u001b[0m h\u001b[39m.\u001b[39mnext\u001b[39m.\u001b[39mnext\u001b[39m.\u001b[39mnext\u001b[39m.\u001b[39mval\n",
      "\u001b[0;31mAttributeError\u001b[0m: 'NoneType' object has no attribute 'val'"
     ]
    }
   ],
   "source": [
    "h.next.next.next.val "
   ]
  }
 ],
 "metadata": {
  "kernelspec": {
   "display_name": "ds",
   "language": "python",
   "name": "python3"
  },
  "language_info": {
   "codemirror_mode": {
    "name": "ipython",
    "version": 3
   },
   "file_extension": ".py",
   "mimetype": "text/x-python",
   "name": "python",
   "nbconvert_exporter": "python",
   "pygments_lexer": "ipython3",
   "version": "3.11.8"
  }
 },
 "nbformat": 4,
 "nbformat_minor": 2
}
